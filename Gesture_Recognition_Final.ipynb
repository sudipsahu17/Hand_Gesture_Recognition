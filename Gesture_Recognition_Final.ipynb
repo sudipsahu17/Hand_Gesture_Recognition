{
 "cells": [
  {
   "cell_type": "markdown",
   "metadata": {},
   "source": [
    "# Gesture Recognition\n",
    "We want to develop a cool feature in the smart-TV that can recognise five different gestures performed by the user which will help users control the TV without using a remote.\n",
    "\n",
    "The gestures are continuously monitored by the webcam mounted on the TV. Each gesture corresponds to a specific command:\n",
    " - Thumbs up:  Increase the volume\n",
    " - Thumbs down: Decrease the volume\n",
    " - Left swipe: 'Jump' backwards 10 seconds\n",
    " - Right swipe: 'Jump' forward 10 seconds  \n",
    " - Stop: Pause the movie\n",
    " \n",
    "In this project, you are going to build a RNN model that will be able to predict the 5 hand gestures correctly, to control a smart tv."
   ]
  },
  {
   "cell_type": "markdown",
   "metadata": {},
   "source": [
    "## About Dataset\n",
    "Dataset contains a 'train' and a 'val' folder with two CSV files for the two folders. These folders are in turn divided into subfolders where each subfolder represents a video of a particular gesture. Each subfolder, i.e. a video, contains 30 frames (or images). Note that all images in a particular video subfolder have the same dimensions but different videos may have different dimensions. Specifically, videos have two types of dimensions - either 360x360 or 120x160 (depending on the webcam used to record the videos). Hence, you will need to do some pre-processing to standardise the videos. \n",
    "\n",
    "Each row of the CSV file represents one video and contains three main pieces of information - the name of the subfolder containing the 30 images of the video, the name of the gesture and the numeric label (between 0-4) of the video."
   ]
  },
  {
   "cell_type": "code",
   "execution_count": 1,
   "metadata": {},
   "outputs": [
    {
     "name": "stdout",
     "output_type": "stream",
     "text": [
      "Requirement already satisfied: pip in /usr/local/lib/python3.8/dist-packages (21.1.2)\n",
      "Collecting pip\n",
      "  Downloading pip-21.2.3-py3-none-any.whl (1.6 MB)\n",
      "\u001b[K     |████████████████████████████████| 1.6 MB 5.2 MB/s eta 0:00:01\n",
      "\u001b[?25hInstalling collected packages: pip\n",
      "  Attempting uninstall: pip\n",
      "    Found existing installation: pip 21.1.2\n",
      "    Uninstalling pip-21.1.2:\n",
      "      Successfully uninstalled pip-21.1.2\n",
      "Successfully installed pip-21.2.3\n",
      "\u001b[33mWARNING: Running pip as root will break packages and permissions. You should install packages reliably by using venv: https://pip.pypa.io/warnings/venv\u001b[0m\n"
     ]
    }
   ],
   "source": [
    "!pip install --upgrade pip"
   ]
  },
  {
   "cell_type": "code",
   "execution_count": 2,
   "metadata": {},
   "outputs": [
    {
     "name": "stdout",
     "output_type": "stream",
     "text": [
      "Collecting mediapipe\n",
      "  Downloading mediapipe-0.8.6.2-cp38-cp38-manylinux_2_17_x86_64.manylinux2014_x86_64.whl (32.2 MB)\n",
      "\u001b[K     |████████████████████████████████| 32.2 MB 5.1 MB/s eta 0:00:01\n",
      "\u001b[?25hRequirement already satisfied: six in /usr/local/lib/python3.8/dist-packages (from mediapipe) (1.15.0)\n",
      "Requirement already satisfied: matplotlib in /usr/local/lib/python3.8/dist-packages (from mediapipe) (3.4.2)\n",
      "Collecting opencv-contrib-python\n",
      "  Downloading opencv_contrib_python-4.5.3.56-cp38-cp38-manylinux2014_x86_64.whl (56.1 MB)\n",
      "\u001b[K     |████████████████████████████████| 56.1 MB 45 kB/s s eta 0:00:01\n",
      "\u001b[?25hRequirement already satisfied: protobuf>=3.11.4 in /usr/local/lib/python3.8/dist-packages (from mediapipe) (3.17.3)\n",
      "Requirement already satisfied: wheel in /usr/local/lib/python3.8/dist-packages (from mediapipe) (0.36.2)\n",
      "Requirement already satisfied: absl-py in /usr/local/lib/python3.8/dist-packages (from mediapipe) (0.12.0)\n",
      "Requirement already satisfied: numpy in /usr/local/lib/python3.8/dist-packages (from mediapipe) (1.19.5)\n",
      "Requirement already satisfied: attrs>=19.1.0 in /usr/local/lib/python3.8/dist-packages (from mediapipe) (21.2.0)\n",
      "Requirement already satisfied: pyparsing>=2.2.1 in /usr/local/lib/python3.8/dist-packages (from matplotlib->mediapipe) (2.4.7)\n",
      "Requirement already satisfied: cycler>=0.10 in /usr/local/lib/python3.8/dist-packages (from matplotlib->mediapipe) (0.10.0)\n",
      "Requirement already satisfied: pillow>=6.2.0 in /usr/local/lib/python3.8/dist-packages (from matplotlib->mediapipe) (8.3.1)\n",
      "Requirement already satisfied: kiwisolver>=1.0.1 in /usr/local/lib/python3.8/dist-packages (from matplotlib->mediapipe) (1.3.1)\n",
      "Requirement already satisfied: python-dateutil>=2.7 in /usr/local/lib/python3.8/dist-packages (from matplotlib->mediapipe) (2.8.1)\n",
      "Installing collected packages: opencv-contrib-python, mediapipe\n",
      "Successfully installed mediapipe-0.8.6.2 opencv-contrib-python-4.5.3.56\n",
      "\u001b[33mWARNING: Running pip as the 'root' user can result in broken permissions and conflicting behaviour with the system package manager. It is recommended to use a virtual environment instead: https://pip.pypa.io/warnings/venv\u001b[0m\n"
     ]
    }
   ],
   "source": [
    "!pip install mediapipe"
   ]
  },
  {
   "cell_type": "code",
   "execution_count": 3,
   "metadata": {},
   "outputs": [
    {
     "name": "stdout",
     "output_type": "stream",
     "text": [
      "Tue Aug 10 02:09:35 2021       \n",
      "+-----------------------------------------------------------------------------+\n",
      "| NVIDIA-SMI 470.42.01    Driver Version: 470.42.01    CUDA Version: 11.4     |\n",
      "|-------------------------------+----------------------+----------------------+\n",
      "| GPU  Name        Persistence-M| Bus-Id        Disp.A | Volatile Uncorr. ECC |\n",
      "| Fan  Temp  Perf  Pwr:Usage/Cap|         Memory-Usage | GPU-Util  Compute M. |\n",
      "|                               |                      |               MIG M. |\n",
      "|===============================+======================+======================|\n",
      "|   0  NVIDIA A100-PCI...  Off  | 00000000:41:00.0 Off |                    0 |\n",
      "| N/A   31C    P0    35W / 250W |      0MiB / 40536MiB |      0%      Default |\n",
      "|                               |                      |             Disabled |\n",
      "+-------------------------------+----------------------+----------------------+\n",
      "                                                                               \n",
      "+-----------------------------------------------------------------------------+\n",
      "| Processes:                                                                  |\n",
      "|  GPU   GI   CI        PID   Type   Process name                  GPU Memory |\n",
      "|        ID   ID                                                   Usage      |\n",
      "|=============================================================================|\n",
      "|  No running processes found                                                 |\n",
      "+-----------------------------------------------------------------------------+\n"
     ]
    }
   ],
   "source": [
    "!nvidia-smi"
   ]
  },
  {
   "cell_type": "code",
   "execution_count": 1,
   "metadata": {},
   "outputs": [],
   "source": [
    "import numpy as np\n",
    "import os\n",
    "from imageio import imread\n",
    "from skimage.transform import resize\n",
    "import datetime\n",
    "import random as rn\n",
    "from tensorflow import keras\n",
    "import tensorflow as tf\n",
    "import cv2\n",
    "import mediapipe as mp\n",
    "from tensorflow.keras.models import Sequential, Model\n",
    "from tensorflow.keras.layers import Dense, GRU, Dropout, Flatten, BatchNormalization, Activation, Conv3D, MaxPooling3D, TimeDistributed\n",
    "from tensorflow.keras.callbacks import ModelCheckpoint, ReduceLROnPlateau\n",
    "from tensorflow.keras import optimizers\n",
    "from tensorflow.keras.applications.vgg16 import VGG16\n",
    "from tensorflow.keras.applications.vgg19 import VGG19"
   ]
  },
  {
   "cell_type": "markdown",
   "metadata": {},
   "source": [
    "We set the random seed so that the results don't vary drastically."
   ]
  },
  {
   "cell_type": "code",
   "execution_count": 2,
   "metadata": {},
   "outputs": [],
   "source": [
    "np.random.seed(30)\n",
    "rn.seed(30)\n",
    "tf.random.set_seed(30)"
   ]
  },
  {
   "cell_type": "markdown",
   "metadata": {},
   "source": [
    "In this block, you read the folder names for training and validation. You also set the `batch_size` here. Note that you set the batch size in such a way that you are able to use the GPU in full capacity. You keep increasing the batch size until the machine throws an error."
   ]
  },
  {
   "cell_type": "markdown",
   "metadata": {},
   "source": [
    "**data path: /home/datasets/Project_data**"
   ]
  },
  {
   "cell_type": "code",
   "execution_count": 3,
   "metadata": {},
   "outputs": [
    {
     "name": "stdout",
     "output_type": "stream",
     "text": [
      "# training sequences = 663\n",
      "# validation sequences = 100\n"
     ]
    }
   ],
   "source": [
    "train_doc = np.random.permutation(open('/home/dataset/Project_data/train.csv').readlines())\n",
    "val_doc = np.random.permutation(open('/home/dataset/Project_data/val.csv').readlines())\n",
    "train_path = '/home/dataset/Project_data/train'\n",
    "val_path = '/home/dataset/Project_data/val'\n",
    "curr_dt_time = datetime.datetime.now()\n",
    "num_train_sequences = len(train_doc)\n",
    "print('# training sequences =', num_train_sequences)\n",
    "num_val_sequences = len(val_doc)\n",
    "print('# validation sequences =', num_val_sequences)"
   ]
  },
  {
   "cell_type": "markdown",
   "metadata": {},
   "source": [
    "## Function for localization"
   ]
  },
  {
   "cell_type": "code",
   "execution_count": 7,
   "metadata": {},
   "outputs": [],
   "source": [
    "mp_drawing = mp.solutions.drawing_utils\n",
    "mp_hands = mp.solutions.hands\n",
    "\n",
    "def get_localized_image(image):\n",
    "    return_image = image\n",
    "    with mp_hands.Hands(\n",
    "        static_image_mode=False,\n",
    "        max_num_hands=1,\n",
    "        min_detection_confidence=0.5) as hands:\n",
    "        \n",
    "        image = cv2.flip(image, 1)\n",
    "        results = hands.process(image)\n",
    "        if results.multi_hand_landmarks:\n",
    "            annotated_image = image.copy()\n",
    "            h, w, c = image.shape\n",
    "            X_fix = 20\n",
    "            Y_fix = 30\n",
    "            x_max = 0\n",
    "            y_max = 0\n",
    "            x_min = w\n",
    "            y_min = h\n",
    "            for handLMs in results.multi_hand_landmarks:\n",
    "                for lm in handLMs.landmark:\n",
    "                    x, y = int(lm.x * w), int(lm.y * h)\n",
    "                    if x > x_max:\n",
    "                        x_max = x\n",
    "                        x_max += X_fix\n",
    "                        if x_max > w:\n",
    "                            x_max = w\n",
    "                    if x < x_min:\n",
    "                        x_min = x\n",
    "                        x_min -= X_fix\n",
    "                        if x_min < 0:\n",
    "                            x_min = 0\n",
    "                    if y > y_max:\n",
    "                        y_max = y\n",
    "                        y_max += Y_fix\n",
    "                        if y_max > h:\n",
    "                            y_max = h\n",
    "                    if y < y_min:\n",
    "                        y_min = y\n",
    "                        y_min -= Y_fix\n",
    "                        if y_min < 0:\n",
    "                            y_min = 0\n",
    "            annotated_image = cv2.rectangle(annotated_image, (x_min, y_min), (x_max, y_max), (0, 255, 0), 1)\n",
    "            mp_drawing.draw_landmarks(annotated_image, handLMs, mp_hands.HAND_CONNECTIONS)\n",
    "            return_image = cv2.flip(annotated_image, 1)\n",
    "    return return_image"
   ]
  },
  {
   "cell_type": "code",
   "execution_count": 8,
   "metadata": {},
   "outputs": [
    {
     "data": {
      "image/png": "[encoded data removed]",
      "text/plain": [
       "<Figure size 432x288 with 2 Axes>"
      ]
     },
     "metadata": {
      "needs_background": "light"
     },
     "output_type": "display_data"
    }
   ],
   "source": [
    "import matplotlib.pyplot as plt\n",
    "image1 = imread('/home/dataset/Project_data/train/WIN_20180907_15_35_09_Pro_Right Swipe_new/WIN_20180907_15_35_09_Pro_00032.png')\n",
    "plt.subplot(1,2, 1)\n",
    "plt.imshow(image1)\n",
    "image1 = get_localized_image(image1)\n",
    "plt.subplot(1,2, 2)\n",
    "plt.imshow(image1)\n",
    "plt.show()"
   ]
  },
  {
   "cell_type": "markdown",
   "metadata": {},
   "source": [
    "### Using above localization algorithm, From existring dataset (train & val), I have created new datasets - \"train_loc\" & \"val_loc\", for training and validation purpose."
   ]
  },
  {
   "cell_type": "markdown",
   "metadata": {},
   "source": [
    "## Generator\n",
    "This is one of the most important part of the code. The overall structure of the generator has been given. In the generator, you are going to preprocess the images as you have images of 2 different dimensions as well as create a batch of video frames. You have to experiment with `img_idx`, `y`,`z` and normalization such that you get high accuracy."
   ]
  },
  {
   "cell_type": "code",
   "execution_count": 4,
   "metadata": {},
   "outputs": [],
   "source": [
    "def generator(source_path, folder_list, batch_size):\n",
    "    print( 'Source path = ', source_path, '; batch size =', batch_size)\n",
    "    img_idx = [0,2,4,6,8,10,12,14,16,18,20,22,24,26,28]\n",
    "    while True:\n",
    "        t = np.random.permutation(folder_list)\n",
    "        num_batches = int(len(t)/batch_size)\n",
    "        for batch in range(num_batches):\n",
    "            batch_data = np.zeros((batch_size,15,120,120,3))\n",
    "            batch_labels = np.zeros((batch_size,5))\n",
    "            for folder in range(batch_size):\n",
    "                imgs = os.listdir(source_path+'/'+ t[folder + (batch*batch_size)].split(';')[0])\n",
    "                for idx,item in enumerate(img_idx):\n",
    "                    image = imread(source_path+'/'+ t[folder + (batch*batch_size)].strip().split(';')[0]+'/'+imgs[item]).astype(np.float32)\n",
    "                    if image.shape[1] == 160:\n",
    "                        image = image[:,20:140,:].astype(np.float32)\n",
    "                    else:\n",
    "                        image = resize(image,(120,120)).astype(np.float32)\n",
    "                    \n",
    "                    batch_data[folder,idx,:,:,0] = image[:,:,0] - 104\n",
    "                    batch_data[folder,idx,:,:,1] = image[:,:,1] - 117\n",
    "                    batch_data[folder,idx,:,:,2] = image[:,:,2] - 123\n",
    "                    \n",
    "                batch_labels[folder, int(t[folder + (batch*batch_size)].strip().split(';')[2])] = 1\n",
    "            yield batch_data, batch_labels\n",
    "\n",
    "        if (len(t)%batch_size) != 0:\n",
    "            batch_data = np.zeros((len(t)%batch_size,15,120,120,3))\n",
    "            batch_labels = np.zeros((len(t)%batch_size,5))\n",
    "            for folder in range(len(t)%batch_size):\n",
    "                imgs = os.listdir(source_path+'/'+ t[folder + (num_batches*batch_size)].split(';')[0])\n",
    "                for idx,item in enumerate(img_idx):\n",
    "                    image = imread(source_path+'/'+ t[folder + (num_batches*batch_size)].strip().split(';')[0]+'/'+imgs[item]).astype(np.float32)\n",
    "                    if image.shape[1] == 160:\n",
    "                        image = image[:,20:140,:].astype(np.float32)\n",
    "                    else:\n",
    "                        image = resize(image,(120,120)).astype(np.float32)\n",
    "                  \n",
    "                    batch_data[folder,idx,:,:,0] = image[:,:,0] - 104\n",
    "                    batch_data[folder,idx,:,:,1] = image[:,:,1] - 117\n",
    "                    batch_data[folder,idx,:,:,2] = image[:,:,2] - 123\n",
    "\n",
    "                batch_labels[folder, int(t[folder + (num_batches*batch_size)].strip().split(';')[2])] = 1\n",
    "\n",
    "            yield batch_data, batch_labels"
   ]
  },
  {
   "cell_type": "markdown",
   "metadata": {},
   "source": [
    "Note here that a video is represented above in the generator as (number of images, height, width, number of channels). Take this into consideration while creating the model architecture."
   ]
  },
  {
   "cell_type": "markdown",
   "metadata": {},
   "source": [
    "The `steps_per_epoch` and `validation_steps` are used by `fit` method to decide the number of next() calls it need to make."
   ]
  },
  {
   "cell_type": "code",
   "execution_count": 5,
   "metadata": {},
   "outputs": [],
   "source": [
    "batch_size = 64\n",
    "num_epochs = 30\n",
    "steps_per_epoch = int(num_train_sequences/batch_size)\n",
    "validation_steps = int(num_val_sequences/batch_size)\n",
    "if (num_train_sequences%batch_size) != 0:\n",
    "    steps_per_epoch += 1\n",
    "if (num_val_sequences%batch_size) != 0:\n",
    "    validation_steps += 1 "
   ]
  },
  {
   "cell_type": "markdown",
   "metadata": {},
   "source": [
    "## Model\n",
    "Here you make the model using different functionalities that Keras provides. Remember to use `Conv3D` and `MaxPooling3D` and not `Conv2D` and `Maxpooling2D` for a 3D convolution model. You would want to use `TimeDistributed` while building a Conv2D + RNN model. Also remember that the last layer is the softmax. Design the network in such a way that the model is able to give good accuracy on the least number of parameters so that it can fit in the memory of the webcam."
   ]
  },
  {
   "cell_type": "markdown",
   "metadata": {},
   "source": [
    "# Model - 1\n",
    "batch=64\n",
    "epochs=30\n",
    "image_size=120*120\n",
    "optimizer=SGD (lr= 0.001)\n",
    "\n",
    "### Transfer learning + CNN + RNN:\n",
    "[VGG16 (imagenet) --> FLatten --> Dropout(0.5) --> Dense(64)] --> [TimeDistributed --> GRU(32) --> GRU(16) --> Dropout(0.5) -->Dense(8)] --> softmax(5) "
   ]
  },
  {
   "cell_type": "code",
   "execution_count": 6,
   "metadata": {},
   "outputs": [],
   "source": [
    "base_model = VGG16(include_top=False, weights='imagenet', input_shape=(120,120,3))\n",
    "x = base_model.output\n",
    "x = Flatten()(x)\n",
    "x = Dropout(0.5)(x)\n",
    "features = Dense(64, activation='relu')(x)\n",
    "conv_model = Model(inputs=base_model.input, outputs=features)\n",
    "    \n",
    "for layer in base_model.layers:\n",
    "    layer.trainable = False\n",
    "        \n",
    "model = Sequential()\n",
    "model.add(TimeDistributed(conv_model, input_shape=(15,120,120,3)))\n",
    "model.add(GRU(32, return_sequences=True))\n",
    "model.add(GRU(16))\n",
    "model.add(Dropout(0.5))\n",
    "model.add(Dense(8, activation='relu'))\n",
    "model.add(Dense(5, activation='softmax'))"
   ]
  },
  {
   "cell_type": "markdown",
   "metadata": {},
   "source": [
    "Now that you have written the model, the next step is to `compile` the model. When you print the `summary` of the model, you'll see the total number of parameters you have to train."
   ]
  },
  {
   "cell_type": "code",
   "execution_count": 7,
   "metadata": {
    "scrolled": true
   },
   "outputs": [
    {
     "name": "stdout",
     "output_type": "stream",
     "text": [
      "Model: \"sequential\"\n",
      "_________________________________________________________________\n",
      "Layer (type)                 Output Shape              Param #   \n",
      "=================================================================\n",
      "time_distributed (TimeDistri (None, 15, 64)            15009664  \n",
      "_________________________________________________________________\n",
      "gru (GRU)                    (None, 15, 32)            9408      \n",
      "_________________________________________________________________\n",
      "gru_1 (GRU)                  (None, 16)                2400      \n",
      "_________________________________________________________________\n",
      "dropout_1 (Dropout)          (None, 16)                0         \n",
      "_________________________________________________________________\n",
      "dense_1 (Dense)              (None, 8)                 136       \n",
      "_________________________________________________________________\n",
      "dense_2 (Dense)              (None, 5)                 45        \n",
      "=================================================================\n",
      "Total params: 15,021,653\n",
      "Trainable params: 306,965\n",
      "Non-trainable params: 14,714,688\n",
      "_________________________________________________________________\n",
      "None\n"
     ]
    }
   ],
   "source": [
    "sgd = optimizers.SGD(learning_rate=0.001, decay=1e-6, momentum=0.7, nesterov=True)\n",
    "model.compile(optimizer=sgd, loss='categorical_crossentropy', metrics=['categorical_accuracy'])\n",
    "print (model.summary())"
   ]
  },
  {
   "cell_type": "markdown",
   "metadata": {},
   "source": [
    "Let us create the `train_generator` and the `val_generator` which will be used in `.fit_generator`."
   ]
  },
  {
   "cell_type": "code",
   "execution_count": 8,
   "metadata": {},
   "outputs": [],
   "source": [
    "train_generator = generator(train_path, train_doc, batch_size)\n",
    "val_generator = generator(val_path, val_doc, batch_size)"
   ]
  },
  {
   "cell_type": "markdown",
   "metadata": {},
   "source": [
    "Let us now fit the model. This will start training the model and with the help of the checkpoints, you'll be able to save the model at the end of each epoch."
   ]
  },
  {
   "cell_type": "code",
   "execution_count": 15,
   "metadata": {},
   "outputs": [],
   "source": [
    "## Add model callbacks_list\n",
    "# model.fit(train_generator, steps_per_epoch=steps_per_epoch, epochs=num_epochs, verbose=1, \n",
    "#                     callbacks=callbacks_list, validation_data=val_generator, \n",
    "#                     validation_steps=validation_steps, class_weight=None, workers=1, initial_epoch=0)"
   ]
  },
  {
   "cell_type": "code",
   "execution_count": 16,
   "metadata": {},
   "outputs": [
    {
     "name": "stdout",
     "output_type": "stream",
     "text": [
      "Source path =  /home/dataset/Project_data/train ; batch size = 64\n",
      "Epoch 1/30\n",
      "11/11 [==============================] - ETA: 0s - loss: 1.6994 - categorical_accuracy: 0.1810Source path =  /home/dataset/Project_data/val ; batch size = 64\n",
      "11/11 [==============================] - 56s 4s/step - loss: 1.6994 - categorical_accuracy: 0.1810 - val_loss: 1.6465 - val_categorical_accuracy: 0.2200\n",
      "Epoch 2/30\n",
      "11/11 [==============================] - 41s 4s/step - loss: 1.6628 - categorical_accuracy: 0.2036 - val_loss: 1.6151 - val_categorical_accuracy: 0.2300\n",
      "Epoch 3/30\n",
      "11/11 [==============================] - 41s 4s/step - loss: 1.6449 - categorical_accuracy: 0.2097 - val_loss: 1.5920 - val_categorical_accuracy: 0.2100\n",
      "Epoch 4/30\n",
      "11/11 [==============================] - 40s 4s/step - loss: 1.6639 - categorical_accuracy: 0.2127 - val_loss: 1.6051 - val_categorical_accuracy: 0.1900\n",
      "Epoch 5/30\n",
      "11/11 [==============================] - 42s 4s/step - loss: 1.6465 - categorical_accuracy: 0.2202 - val_loss: 1.5891 - val_categorical_accuracy: 0.2200\n",
      "Epoch 6/30\n",
      "11/11 [==============================] - 39s 4s/step - loss: 1.6449 - categorical_accuracy: 0.2127 - val_loss: 1.5751 - val_categorical_accuracy: 0.2400\n",
      "Epoch 7/30\n",
      "11/11 [==============================] - 41s 4s/step - loss: 1.6051 - categorical_accuracy: 0.2308 - val_loss: 1.5559 - val_categorical_accuracy: 0.3200\n",
      "Epoch 8/30\n",
      "11/11 [==============================] - 40s 4s/step - loss: 1.6046 - categorical_accuracy: 0.2609 - val_loss: 1.5664 - val_categorical_accuracy: 0.3100\n",
      "Epoch 9/30\n",
      "11/11 [==============================] - 41s 4s/step - loss: 1.6084 - categorical_accuracy: 0.2594 - val_loss: 1.5556 - val_categorical_accuracy: 0.3200\n",
      "Epoch 10/30\n",
      "11/11 [==============================] - 39s 4s/step - loss: 1.6153 - categorical_accuracy: 0.2353 - val_loss: 1.5510 - val_categorical_accuracy: 0.3400\n",
      "Epoch 11/30\n",
      "11/11 [==============================] - 41s 4s/step - loss: 1.6134 - categorical_accuracy: 0.2172 - val_loss: 1.5367 - val_categorical_accuracy: 0.3900\n",
      "Epoch 12/30\n",
      "11/11 [==============================] - 39s 4s/step - loss: 1.5768 - categorical_accuracy: 0.2805 - val_loss: 1.5437 - val_categorical_accuracy: 0.3800\n",
      "Epoch 13/30\n",
      "11/11 [==============================] - 41s 4s/step - loss: 1.5848 - categorical_accuracy: 0.2609 - val_loss: 1.5466 - val_categorical_accuracy: 0.2800\n",
      "Epoch 14/30\n",
      "11/11 [==============================] - 40s 4s/step - loss: 1.5725 - categorical_accuracy: 0.3107 - val_loss: 1.5127 - val_categorical_accuracy: 0.4100\n",
      "Epoch 15/30\n",
      "11/11 [==============================] - 41s 4s/step - loss: 1.5622 - categorical_accuracy: 0.2941 - val_loss: 1.5304 - val_categorical_accuracy: 0.3600\n",
      "Epoch 16/30\n",
      "11/11 [==============================] - 40s 4s/step - loss: 1.5645 - categorical_accuracy: 0.2760 - val_loss: 1.5180 - val_categorical_accuracy: 0.3200\n",
      "Epoch 17/30\n",
      "11/11 [==============================] - 41s 4s/step - loss: 1.5470 - categorical_accuracy: 0.3032 - val_loss: 1.5247 - val_categorical_accuracy: 0.3200\n",
      "Epoch 18/30\n",
      "11/11 [==============================] - 39s 4s/step - loss: 1.5571 - categorical_accuracy: 0.2821 - val_loss: 1.5017 - val_categorical_accuracy: 0.3600\n",
      "Epoch 19/30\n",
      "11/11 [==============================] - 41s 4s/step - loss: 1.5533 - categorical_accuracy: 0.2655 - val_loss: 1.5102 - val_categorical_accuracy: 0.3500\n",
      "Epoch 20/30\n",
      "11/11 [==============================] - 40s 4s/step - loss: 1.5478 - categorical_accuracy: 0.2881 - val_loss: 1.5185 - val_categorical_accuracy: 0.3200\n",
      "Epoch 21/30\n",
      "11/11 [==============================] - 41s 4s/step - loss: 1.5174 - categorical_accuracy: 0.3454 - val_loss: 1.5055 - val_categorical_accuracy: 0.3300\n",
      "Epoch 22/30\n",
      "11/11 [==============================] - 40s 4s/step - loss: 1.5343 - categorical_accuracy: 0.3409 - val_loss: 1.4910 - val_categorical_accuracy: 0.3600\n",
      "Epoch 23/30\n",
      "11/11 [==============================] - 42s 4s/step - loss: 1.5136 - categorical_accuracy: 0.3560 - val_loss: 1.4730 - val_categorical_accuracy: 0.4300\n",
      "Epoch 24/30\n",
      "11/11 [==============================] - 39s 4s/step - loss: 1.5322 - categorical_accuracy: 0.2986 - val_loss: 1.4584 - val_categorical_accuracy: 0.4600\n",
      "Epoch 25/30\n",
      "11/11 [==============================] - 41s 4s/step - loss: 1.5136 - categorical_accuracy: 0.3288 - val_loss: 1.4548 - val_categorical_accuracy: 0.4300\n",
      "Epoch 26/30\n",
      "11/11 [==============================] - 41s 4s/step - loss: 1.5092 - categorical_accuracy: 0.3650 - val_loss: 1.4519 - val_categorical_accuracy: 0.4000\n",
      "Epoch 27/30\n",
      "11/11 [==============================] - 42s 4s/step - loss: 1.4922 - categorical_accuracy: 0.3243 - val_loss: 1.4458 - val_categorical_accuracy: 0.3800\n",
      "Epoch 28/30\n",
      "11/11 [==============================] - 41s 4s/step - loss: 1.4931 - categorical_accuracy: 0.3620 - val_loss: 1.4258 - val_categorical_accuracy: 0.3800\n",
      "Epoch 29/30\n",
      "11/11 [==============================] - 43s 4s/step - loss: 1.4811 - categorical_accuracy: 0.3620 - val_loss: 1.4285 - val_categorical_accuracy: 0.3400\n",
      "Epoch 30/30\n",
      "11/11 [==============================] - 40s 4s/step - loss: 1.4681 - categorical_accuracy: 0.3198 - val_loss: 1.4299 - val_categorical_accuracy: 0.4000\n"
     ]
    },
    {
     "data": {
      "text/plain": [
       "<tensorflow.python.keras.callbacks.History at 0x7f8196e13fd0>"
      ]
     },
     "execution_count": 16,
     "metadata": {},
     "output_type": "execute_result"
    }
   ],
   "source": [
    "model.fit(train_generator, steps_per_epoch=steps_per_epoch, epochs=num_epochs, verbose=1, validation_data=val_generator, \n",
    "                     validation_steps=validation_steps, class_weight=None, workers=1, initial_epoch=0)"
   ]
  },
  {
   "cell_type": "markdown",
   "metadata": {},
   "source": [
    "### Model - 1 : Summary\n",
    "We can see that, Accuracy is reached to ~40% after 30 epochs. And We dont see any overfiiting till now.\n",
    "But accuracy is very low. So we need to change our model."
   ]
  },
  {
   "cell_type": "markdown",
   "metadata": {},
   "source": [
    "# Model - 2\n",
    "batch=64\n",
    "epochs=30\n",
    "image_size=120*120\n",
    "optimizer=ADAM(lr= 0.001)\n",
    "\n",
    "### Transfer learning + CNN + RNN:\n",
    "[VGG16 (imagenet) --> FLatten -->  Dense(128) ---> Dropout(0.5) --> Dense(64)] --> [TimeDistributed --> GRU(32) --> GRU(16) --> Dropout(0.5) -->  Dense(16) --> Dense(8)] --> softmax(5) "
   ]
  },
  {
   "cell_type": "code",
   "execution_count": 17,
   "metadata": {},
   "outputs": [],
   "source": [
    "batch_size = 64\n",
    "num_epochs = 30\n",
    "steps_per_epoch = int(num_train_sequences/batch_size)\n",
    "validation_steps = int(num_val_sequences/batch_size)\n",
    "if (num_train_sequences%batch_size) != 0:\n",
    "    steps_per_epoch += 1\n",
    "if (num_val_sequences%batch_size) != 0:\n",
    "    validation_steps += 1\n",
    "train_generator = generator(train_path, train_doc, batch_size)\n",
    "val_generator = generator(val_path, val_doc, batch_size)"
   ]
  },
  {
   "cell_type": "code",
   "execution_count": 19,
   "metadata": {},
   "outputs": [
    {
     "name": "stdout",
     "output_type": "stream",
     "text": [
      "Model: \"sequential_2\"\n",
      "_________________________________________________________________\n",
      "Layer (type)                 Output Shape              Param #   \n",
      "=================================================================\n",
      "time_distributed_2 (TimeDist (None, 15, 64)            15312896  \n",
      "_________________________________________________________________\n",
      "gru_4 (GRU)                  (None, 15, 32)            9408      \n",
      "_________________________________________________________________\n",
      "gru_5 (GRU)                  (None, 16)                2400      \n",
      "_________________________________________________________________\n",
      "dropout_5 (Dropout)          (None, 16)                0         \n",
      "_________________________________________________________________\n",
      "dense_8 (Dense)              (None, 16)                272       \n",
      "_________________________________________________________________\n",
      "dense_9 (Dense)              (None, 8)                 136       \n",
      "_________________________________________________________________\n",
      "dense_10 (Dense)             (None, 5)                 45        \n",
      "=================================================================\n",
      "Total params: 15,325,157\n",
      "Trainable params: 610,469\n",
      "Non-trainable params: 14,714,688\n",
      "_________________________________________________________________\n",
      "None\n"
     ]
    }
   ],
   "source": [
    "base_model = VGG16(include_top=False, weights='imagenet', input_shape=(120,120,3))\n",
    "x = base_model.output\n",
    "x = Flatten()(x)\n",
    "x = Dense(128, activation='relu', name='fc1')(x)\n",
    "x = Dropout(0.5)(x)\n",
    "features = Dense(64, activation='relu')(x)\n",
    "conv_model = Model(inputs=base_model.input, outputs=features)\n",
    "    \n",
    "for layer in base_model.layers:\n",
    "    layer.trainable = False\n",
    "        \n",
    "model = Sequential()\n",
    "model.add(TimeDistributed(conv_model, input_shape=(15,120,120,3)))\n",
    "model.add(GRU(32, return_sequences=True))\n",
    "model.add(GRU(16))\n",
    "model.add(Dropout(0.5))\n",
    "model.add(Dense(16, activation='relu'))\n",
    "model.add(Dense(8, activation='relu'))\n",
    "model.add(Dense(5, activation='softmax'))\n",
    "\n",
    "adam = optimizers.Adam(learning_rate=0.001, decay=1e-6)\n",
    "model.compile(optimizer=adam, loss='categorical_crossentropy', metrics=['categorical_accuracy'])\n",
    "print (model.summary())"
   ]
  },
  {
   "cell_type": "code",
   "execution_count": 20,
   "metadata": {},
   "outputs": [
    {
     "name": "stdout",
     "output_type": "stream",
     "text": [
      "Source path =  /home/dataset/Project_data/train ; batch size = 64\n",
      "Epoch 1/30\n",
      "11/11 [==============================] - ETA: 0s - loss: 1.6195 - categorical_accuracy: 0.2398Source path =  /home/dataset/Project_data/val ; batch size = 64\n",
      "11/11 [==============================] - 44s 4s/step - loss: 1.6195 - categorical_accuracy: 0.2398 - val_loss: 1.5596 - val_categorical_accuracy: 0.2900\n",
      "Epoch 2/30\n",
      "11/11 [==============================] - 40s 4s/step - loss: 1.5625 - categorical_accuracy: 0.2836 - val_loss: 1.5645 - val_categorical_accuracy: 0.3500\n",
      "Epoch 3/30\n",
      "11/11 [==============================] - 41s 4s/step - loss: 1.5407 - categorical_accuracy: 0.2790 - val_loss: 1.5055 - val_categorical_accuracy: 0.3100\n",
      "Epoch 4/30\n",
      "11/11 [==============================] - 40s 4s/step - loss: 1.5409 - categorical_accuracy: 0.2821 - val_loss: 1.5134 - val_categorical_accuracy: 0.2900\n",
      "Epoch 5/30\n",
      "11/11 [==============================] - 41s 4s/step - loss: 1.4974 - categorical_accuracy: 0.3213 - val_loss: 1.4530 - val_categorical_accuracy: 0.3500\n",
      "Epoch 6/30\n",
      "11/11 [==============================] - 39s 4s/step - loss: 1.4569 - categorical_accuracy: 0.3544 - val_loss: 1.4220 - val_categorical_accuracy: 0.4000\n",
      "Epoch 7/30\n",
      "11/11 [==============================] - 42s 4s/step - loss: 1.4041 - categorical_accuracy: 0.4133 - val_loss: 1.3323 - val_categorical_accuracy: 0.4500\n",
      "Epoch 8/30\n",
      "11/11 [==============================] - 40s 4s/step - loss: 1.3594 - categorical_accuracy: 0.4268 - val_loss: 1.3802 - val_categorical_accuracy: 0.4700\n",
      "Epoch 9/30\n",
      "11/11 [==============================] - 41s 4s/step - loss: 1.2832 - categorical_accuracy: 0.4706 - val_loss: 1.2115 - val_categorical_accuracy: 0.5200\n",
      "Epoch 10/30\n",
      "11/11 [==============================] - 40s 4s/step - loss: 1.2280 - categorical_accuracy: 0.4872 - val_loss: 1.1887 - val_categorical_accuracy: 0.5000\n",
      "Epoch 11/30\n",
      "11/11 [==============================] - 41s 4s/step - loss: 1.1714 - categorical_accuracy: 0.5370 - val_loss: 1.1024 - val_categorical_accuracy: 0.5300\n",
      "Epoch 12/30\n",
      "11/11 [==============================] - 40s 4s/step - loss: 1.1139 - categorical_accuracy: 0.5460 - val_loss: 1.0295 - val_categorical_accuracy: 0.5100\n",
      "Epoch 13/30\n",
      "11/11 [==============================] - 42s 4s/step - loss: 1.0813 - categorical_accuracy: 0.5430 - val_loss: 1.0479 - val_categorical_accuracy: 0.5200\n",
      "Epoch 14/30\n",
      "11/11 [==============================] - 40s 4s/step - loss: 0.9871 - categorical_accuracy: 0.5716 - val_loss: 1.0957 - val_categorical_accuracy: 0.5100\n",
      "Epoch 15/30\n",
      "11/11 [==============================] - 41s 4s/step - loss: 0.9615 - categorical_accuracy: 0.6229 - val_loss: 0.9616 - val_categorical_accuracy: 0.6300\n",
      "Epoch 16/30\n",
      "11/11 [==============================] - 40s 4s/step - loss: 0.9048 - categorical_accuracy: 0.6335 - val_loss: 0.8080 - val_categorical_accuracy: 0.7100\n",
      "Epoch 17/30\n",
      "11/11 [==============================] - 42s 4s/step - loss: 0.8266 - categorical_accuracy: 0.6365 - val_loss: 0.8701 - val_categorical_accuracy: 0.6700\n",
      "Epoch 18/30\n",
      "11/11 [==============================] - 40s 4s/step - loss: 0.7728 - categorical_accuracy: 0.7059 - val_loss: 0.7945 - val_categorical_accuracy: 0.6900\n",
      "Epoch 19/30\n",
      "11/11 [==============================] - 42s 4s/step - loss: 0.7254 - categorical_accuracy: 0.7119 - val_loss: 0.6908 - val_categorical_accuracy: 0.7100\n",
      "Epoch 20/30\n",
      "11/11 [==============================] - 41s 4s/step - loss: 0.7131 - categorical_accuracy: 0.6833 - val_loss: 0.6373 - val_categorical_accuracy: 0.7300\n",
      "Epoch 21/30\n",
      "11/11 [==============================] - 41s 4s/step - loss: 0.6828 - categorical_accuracy: 0.6923 - val_loss: 0.7913 - val_categorical_accuracy: 0.6400\n",
      "Epoch 22/30\n",
      "11/11 [==============================] - 39s 4s/step - loss: 0.6346 - categorical_accuracy: 0.7330 - val_loss: 0.8219 - val_categorical_accuracy: 0.6900\n",
      "Epoch 23/30\n",
      "11/11 [==============================] - 41s 4s/step - loss: 0.6334 - categorical_accuracy: 0.7406 - val_loss: 0.7158 - val_categorical_accuracy: 0.7200\n",
      "Epoch 24/30\n",
      "11/11 [==============================] - 39s 4s/step - loss: 0.5756 - categorical_accuracy: 0.7557 - val_loss: 0.6819 - val_categorical_accuracy: 0.7000\n",
      "Epoch 25/30\n",
      "11/11 [==============================] - 42s 4s/step - loss: 0.5485 - categorical_accuracy: 0.7738 - val_loss: 0.6344 - val_categorical_accuracy: 0.7200\n",
      "Epoch 26/30\n",
      "11/11 [==============================] - 39s 4s/step - loss: 0.4851 - categorical_accuracy: 0.8100 - val_loss: 0.7145 - val_categorical_accuracy: 0.7100\n",
      "Epoch 27/30\n",
      "11/11 [==============================] - 40s 4s/step - loss: 0.4848 - categorical_accuracy: 0.7994 - val_loss: 0.7355 - val_categorical_accuracy: 0.7300\n",
      "Epoch 28/30\n",
      "11/11 [==============================] - 39s 4s/step - loss: 0.4780 - categorical_accuracy: 0.8115 - val_loss: 0.8151 - val_categorical_accuracy: 0.7400\n",
      "Epoch 29/30\n",
      "11/11 [==============================] - 42s 4s/step - loss: 0.4703 - categorical_accuracy: 0.8205 - val_loss: 0.7531 - val_categorical_accuracy: 0.7100\n",
      "Epoch 30/30\n",
      "11/11 [==============================] - 39s 4s/step - loss: 0.4755 - categorical_accuracy: 0.8054 - val_loss: 0.7096 - val_categorical_accuracy: 0.7000\n"
     ]
    },
    {
     "data": {
      "text/plain": [
       "<tensorflow.python.keras.callbacks.History at 0x7f8196e36760>"
      ]
     },
     "execution_count": 20,
     "metadata": {},
     "output_type": "execute_result"
    }
   ],
   "source": [
    "model.fit(train_generator, steps_per_epoch=steps_per_epoch, epochs=num_epochs, verbose=1, validation_data=val_generator, \n",
    "                     validation_steps=validation_steps, class_weight=None, workers=1, initial_epoch=0)"
   ]
  },
  {
   "cell_type": "markdown",
   "metadata": {},
   "source": [
    "### Model -2 : Summary\n",
    "Overfitting - We can see good accuracy now, but model is getiing overfit."
   ]
  },
  {
   "cell_type": "markdown",
   "metadata": {},
   "source": [
    "# Model - 3\n",
    "batch=64\n",
    "epochs=30\n",
    "image_size=120*120\n",
    "optimizer=ADAM(lr= 0.001)\n",
    "\n",
    "### Transfer learning + CNN + RNN:\n",
    "[VGG19 (imagenet) --> FLatten -->  Dense(128) ---> Dropout(0.5) --> Dense(64)] --> [TimeDistributed --> GRU(32) --> GRU(16) --> Dropout(0.5) -->  Dense(16) --> Dense(8)] --> softmax(5) "
   ]
  },
  {
   "cell_type": "code",
   "execution_count": 22,
   "metadata": {},
   "outputs": [
    {
     "name": "stdout",
     "output_type": "stream",
     "text": [
      "Model: \"sequential_4\"\n",
      "_________________________________________________________________\n",
      "Layer (type)                 Output Shape              Param #   \n",
      "=================================================================\n",
      "time_distributed_4 (TimeDist (None, 15, 64)            20622592  \n",
      "_________________________________________________________________\n",
      "gru_8 (GRU)                  (None, 15, 64)            24960     \n",
      "_________________________________________________________________\n",
      "gru_9 (GRU)                  (None, 32)                9408      \n",
      "_________________________________________________________________\n",
      "dropout_10 (Dropout)         (None, 32)                0         \n",
      "_________________________________________________________________\n",
      "dense_17 (Dense)             (None, 16)                528       \n",
      "_________________________________________________________________\n",
      "dropout_11 (Dropout)         (None, 16)                0         \n",
      "_________________________________________________________________\n",
      "dense_18 (Dense)             (None, 5)                 85        \n",
      "=================================================================\n",
      "Total params: 20,657,573\n",
      "Trainable params: 633,189\n",
      "Non-trainable params: 20,024,384\n",
      "_________________________________________________________________\n",
      "None\n"
     ]
    }
   ],
   "source": [
    "base_model = VGG19(include_top=False, weights='imagenet', input_shape=(120,120,3))\n",
    "x = base_model.output\n",
    "x = Flatten()(x)\n",
    "x = Dense(128, activation='relu')(x)\n",
    "x = Dropout(0.3)(x)\n",
    "features = Dense(64, activation='relu')(x)\n",
    "conv_model = Model(inputs=base_model.input, outputs=features)\n",
    "\n",
    "for layer in base_model.layers:\n",
    "    layer.trainable = False\n",
    "\n",
    "model = Sequential()\n",
    "model.add(TimeDistributed(conv_model, input_shape=(15,120,120,3)))\n",
    "model.add(GRU(64, return_sequences=True))\n",
    "model.add(GRU(32))\n",
    "model.add(Dropout(0.5))\n",
    "model.add(Dense(16, activation='relu'))\n",
    "model.add(Dropout(0.5))\n",
    "model.add(Dense(5, activation='softmax'))\n",
    "\n",
    "adam = optimizers.Adam(learning_rate=0.001, decay=1e-6)\n",
    "model.compile(optimizer=adam, loss='categorical_crossentropy', metrics=['categorical_accuracy'])\n",
    "print (model.summary())"
   ]
  },
  {
   "cell_type": "code",
   "execution_count": 23,
   "metadata": {},
   "outputs": [
    {
     "name": "stdout",
     "output_type": "stream",
     "text": [
      "Epoch 1/30\n",
      "11/11 [==============================] - 44s 4s/step - loss: 1.7960 - categorical_accuracy: 0.2036 - val_loss: 1.5665 - val_categorical_accuracy: 0.2900\n",
      "Epoch 2/30\n",
      "11/11 [==============================] - 40s 4s/step - loss: 1.6199 - categorical_accuracy: 0.2564 - val_loss: 1.5073 - val_categorical_accuracy: 0.3200\n",
      "Epoch 3/30\n",
      "11/11 [==============================] - 39s 4s/step - loss: 1.5976 - categorical_accuracy: 0.2262 - val_loss: 1.5155 - val_categorical_accuracy: 0.3900\n",
      "Epoch 4/30\n",
      "11/11 [==============================] - 40s 4s/step - loss: 1.5438 - categorical_accuracy: 0.2896 - val_loss: 1.4474 - val_categorical_accuracy: 0.3200\n",
      "Epoch 5/30\n",
      "11/11 [==============================] - 40s 4s/step - loss: 1.4808 - categorical_accuracy: 0.3167 - val_loss: 1.3430 - val_categorical_accuracy: 0.4900\n",
      "Epoch 6/30\n",
      "11/11 [==============================] - 40s 4s/step - loss: 1.3975 - categorical_accuracy: 0.3348 - val_loss: 1.2614 - val_categorical_accuracy: 0.5000\n",
      "Epoch 7/30\n",
      "11/11 [==============================] - 41s 4s/step - loss: 1.3611 - categorical_accuracy: 0.3982 - val_loss: 1.1929 - val_categorical_accuracy: 0.5400\n",
      "Epoch 8/30\n",
      "11/11 [==============================] - 39s 4s/step - loss: 1.2652 - categorical_accuracy: 0.4329 - val_loss: 1.1083 - val_categorical_accuracy: 0.5800\n",
      "Epoch 9/30\n",
      "11/11 [==============================] - 41s 4s/step - loss: 1.2483 - categorical_accuracy: 0.4253 - val_loss: 1.0070 - val_categorical_accuracy: 0.6500\n",
      "Epoch 10/30\n",
      "11/11 [==============================] - 40s 4s/step - loss: 1.1440 - categorical_accuracy: 0.5008 - val_loss: 0.9600 - val_categorical_accuracy: 0.6800\n",
      "Epoch 11/30\n",
      "11/11 [==============================] - 42s 4s/step - loss: 1.0927 - categorical_accuracy: 0.5023 - val_loss: 0.9040 - val_categorical_accuracy: 0.7300\n",
      "Epoch 12/30\n",
      "11/11 [==============================] - 39s 4s/step - loss: 1.0323 - categorical_accuracy: 0.5053 - val_loss: 0.9014 - val_categorical_accuracy: 0.6500\n",
      "Epoch 13/30\n",
      "11/11 [==============================] - 41s 4s/step - loss: 0.9847 - categorical_accuracy: 0.5279 - val_loss: 0.8708 - val_categorical_accuracy: 0.6700\n",
      "Epoch 14/30\n",
      "11/11 [==============================] - 40s 4s/step - loss: 0.9549 - categorical_accuracy: 0.5475 - val_loss: 0.8729 - val_categorical_accuracy: 0.7300\n",
      "Epoch 15/30\n",
      "11/11 [==============================] - 42s 4s/step - loss: 0.8773 - categorical_accuracy: 0.6033 - val_loss: 0.7987 - val_categorical_accuracy: 0.7000\n",
      "Epoch 16/30\n",
      "11/11 [==============================] - 40s 4s/step - loss: 0.8733 - categorical_accuracy: 0.5943 - val_loss: 0.7829 - val_categorical_accuracy: 0.7300\n",
      "Epoch 17/30\n",
      "11/11 [==============================] - 41s 4s/step - loss: 0.8053 - categorical_accuracy: 0.6214 - val_loss: 0.8430 - val_categorical_accuracy: 0.7300\n",
      "Epoch 18/30\n",
      "11/11 [==============================] - 40s 4s/step - loss: 0.7919 - categorical_accuracy: 0.6440 - val_loss: 0.8132 - val_categorical_accuracy: 0.7200\n",
      "Epoch 19/30\n",
      "11/11 [==============================] - 42s 4s/step - loss: 0.7702 - categorical_accuracy: 0.6697 - val_loss: 0.7336 - val_categorical_accuracy: 0.7300\n",
      "Epoch 20/30\n",
      "11/11 [==============================] - 40s 4s/step - loss: 0.6745 - categorical_accuracy: 0.7210 - val_loss: 0.8926 - val_categorical_accuracy: 0.7100\n",
      "Epoch 21/30\n",
      "11/11 [==============================] - 42s 4s/step - loss: 0.6911 - categorical_accuracy: 0.6667 - val_loss: 0.6640 - val_categorical_accuracy: 0.7600\n",
      "Epoch 22/30\n",
      "11/11 [==============================] - 39s 4s/step - loss: 0.6421 - categorical_accuracy: 0.7044 - val_loss: 0.6920 - val_categorical_accuracy: 0.7800\n",
      "Epoch 23/30\n",
      "11/11 [==============================] - 43s 4s/step - loss: 0.6232 - categorical_accuracy: 0.7029 - val_loss: 0.6996 - val_categorical_accuracy: 0.7400\n",
      "Epoch 24/30\n",
      "11/11 [==============================] - 40s 4s/step - loss: 0.6146 - categorical_accuracy: 0.7345 - val_loss: 0.5904 - val_categorical_accuracy: 0.8400\n",
      "Epoch 25/30\n",
      "11/11 [==============================] - 41s 4s/step - loss: 0.5681 - categorical_accuracy: 0.7436 - val_loss: 0.7063 - val_categorical_accuracy: 0.7500\n",
      "Epoch 26/30\n",
      "11/11 [==============================] - 41s 4s/step - loss: 0.5615 - categorical_accuracy: 0.7270 - val_loss: 0.6793 - val_categorical_accuracy: 0.7700\n",
      "Epoch 27/30\n",
      "11/11 [==============================] - 41s 4s/step - loss: 0.5686 - categorical_accuracy: 0.7240 - val_loss: 0.7292 - val_categorical_accuracy: 0.7600\n",
      "Epoch 28/30\n",
      "11/11 [==============================] - 40s 4s/step - loss: 0.5174 - categorical_accuracy: 0.7587 - val_loss: 0.8982 - val_categorical_accuracy: 0.8200\n",
      "Epoch 29/30\n",
      "11/11 [==============================] - 40s 4s/step - loss: 0.5160 - categorical_accuracy: 0.7406 - val_loss: 0.7960 - val_categorical_accuracy: 0.7900\n",
      "Epoch 30/30\n",
      "11/11 [==============================] - 40s 4s/step - loss: 0.4731 - categorical_accuracy: 0.8039 - val_loss: 0.7108 - val_categorical_accuracy: 0.8000\n"
     ]
    },
    {
     "data": {
      "text/plain": [
       "<tensorflow.python.keras.callbacks.History at 0x7f818406c0a0>"
      ]
     },
     "execution_count": 23,
     "metadata": {},
     "output_type": "execute_result"
    }
   ],
   "source": [
    "model.fit(train_generator, steps_per_epoch=steps_per_epoch, epochs=num_epochs, verbose=1, validation_data=val_generator, \n",
    "                     validation_steps=validation_steps, class_weight=None, workers=1, initial_epoch=0)"
   ]
  },
  {
   "cell_type": "markdown",
   "metadata": {},
   "source": [
    "### Model - 3 : Summary\n",
    "Overfitting issue resolved and accuracy is also decent. Lets try to inrease the epoch to increase the accuracy"
   ]
  },
  {
   "cell_type": "markdown",
   "metadata": {},
   "source": [
    "# Model - 4\n",
    "batch=64\n",
    "epochs=50\n",
    "image_size=120*120\n",
    "optimizer=ADAM(lr= 0.001)\n",
    "\n",
    "### Transfer learning + CNN + RNN:\n",
    "[VGG19 (imagenet) --> FLatten -->  Dense(128) ---> Dropout(0.5) --> Dense(64)] --> [TimeDistributed --> GRU(32) --> GRU(16) --> Dropout(0.5) -->  Dense(16) --> Dense(8)] --> softmax(5) "
   ]
  },
  {
   "cell_type": "code",
   "execution_count": 25,
   "metadata": {},
   "outputs": [],
   "source": [
    "batch_size = 64\n",
    "num_epochs = 50\n",
    "steps_per_epoch = int(num_train_sequences/batch_size)\n",
    "validation_steps = int(num_val_sequences/batch_size)\n",
    "if (num_train_sequences%batch_size) != 0:\n",
    "    steps_per_epoch += 1\n",
    "if (num_val_sequences%batch_size) != 0:\n",
    "    validation_steps += 1\n",
    "train_generator = generator(train_path, train_doc, batch_size)\n",
    "val_generator = generator(val_path, val_doc, batch_size)"
   ]
  },
  {
   "cell_type": "code",
   "execution_count": 26,
   "metadata": {},
   "outputs": [
    {
     "name": "stdout",
     "output_type": "stream",
     "text": [
      "Model: \"sequential_5\"\n",
      "_________________________________________________________________\n",
      "Layer (type)                 Output Shape              Param #   \n",
      "=================================================================\n",
      "time_distributed_5 (TimeDist (None, 15, 64)            20622592  \n",
      "_________________________________________________________________\n",
      "gru_10 (GRU)                 (None, 15, 64)            24960     \n",
      "_________________________________________________________________\n",
      "gru_11 (GRU)                 (None, 32)                9408      \n",
      "_________________________________________________________________\n",
      "dropout_13 (Dropout)         (None, 32)                0         \n",
      "_________________________________________________________________\n",
      "dense_21 (Dense)             (None, 16)                528       \n",
      "_________________________________________________________________\n",
      "dropout_14 (Dropout)         (None, 16)                0         \n",
      "_________________________________________________________________\n",
      "dense_22 (Dense)             (None, 5)                 85        \n",
      "=================================================================\n",
      "Total params: 20,657,573\n",
      "Trainable params: 633,189\n",
      "Non-trainable params: 20,024,384\n",
      "_________________________________________________________________\n",
      "None\n"
     ]
    }
   ],
   "source": [
    "base_model = VGG19(include_top=False, weights='imagenet', input_shape=(120,120,3))\n",
    "x = base_model.output\n",
    "x = Flatten()(x)\n",
    "x = Dense(128, activation='relu')(x)\n",
    "x = Dropout(0.3)(x)\n",
    "features = Dense(64, activation='relu')(x)\n",
    "conv_model = Model(inputs=base_model.input, outputs=features)\n",
    "\n",
    "for layer in base_model.layers:\n",
    "    layer.trainable = False\n",
    "\n",
    "model = Sequential()\n",
    "model.add(TimeDistributed(conv_model, input_shape=(15,120,120,3)))\n",
    "model.add(GRU(64, return_sequences=True))\n",
    "model.add(GRU(32))\n",
    "model.add(Dropout(0.5))\n",
    "model.add(Dense(16, activation='relu'))\n",
    "model.add(Dropout(0.5))\n",
    "model.add(Dense(5, activation='softmax'))\n",
    "\n",
    "adam = optimizers.Adam(learning_rate=0.001, decay=1e-6)\n",
    "model.compile(optimizer=adam, loss='categorical_crossentropy', metrics=['categorical_accuracy'])\n",
    "print (model.summary())"
   ]
  },
  {
   "cell_type": "code",
   "execution_count": 27,
   "metadata": {},
   "outputs": [
    {
     "name": "stdout",
     "output_type": "stream",
     "text": [
      "Source path =  /home/dataset/Project_data/train ; batch size = 64\n",
      "Epoch 1/50\n",
      "11/11 [==============================] - ETA: 0s - loss: 1.7739 - categorical_accuracy: 0.2308Source path =  /home/dataset/Project_data/val ; batch size = 64\n",
      "11/11 [==============================] - 44s 4s/step - loss: 1.7739 - categorical_accuracy: 0.2308 - val_loss: 1.5483 - val_categorical_accuracy: 0.3000\n",
      "Epoch 2/50\n",
      "11/11 [==============================] - 40s 4s/step - loss: 1.6253 - categorical_accuracy: 0.2262 - val_loss: 1.5499 - val_categorical_accuracy: 0.3000\n",
      "Epoch 3/50\n",
      "11/11 [==============================] - 42s 4s/step - loss: 1.5978 - categorical_accuracy: 0.2670 - val_loss: 1.5210 - val_categorical_accuracy: 0.4400\n",
      "Epoch 4/50\n",
      "11/11 [==============================] - 40s 4s/step - loss: 1.5366 - categorical_accuracy: 0.3032 - val_loss: 1.4232 - val_categorical_accuracy: 0.5100\n",
      "Epoch 5/50\n",
      "11/11 [==============================] - 41s 4s/step - loss: 1.4651 - categorical_accuracy: 0.3695 - val_loss: 1.3044 - val_categorical_accuracy: 0.6200\n",
      "Epoch 6/50\n",
      "11/11 [==============================] - 40s 4s/step - loss: 1.3470 - categorical_accuracy: 0.4133 - val_loss: 1.2493 - val_categorical_accuracy: 0.5400\n",
      "Epoch 7/50\n",
      "11/11 [==============================] - 41s 4s/step - loss: 1.3218 - categorical_accuracy: 0.4374 - val_loss: 1.1056 - val_categorical_accuracy: 0.6400\n",
      "Epoch 8/50\n",
      "11/11 [==============================] - 40s 4s/step - loss: 1.2449 - categorical_accuracy: 0.4661 - val_loss: 0.9834 - val_categorical_accuracy: 0.7000\n",
      "Epoch 9/50\n",
      "11/11 [==============================] - 42s 4s/step - loss: 1.1691 - categorical_accuracy: 0.4827 - val_loss: 0.9393 - val_categorical_accuracy: 0.6900\n",
      "Epoch 10/50\n",
      "11/11 [==============================] - 39s 4s/step - loss: 1.0155 - categorical_accuracy: 0.5490 - val_loss: 0.8799 - val_categorical_accuracy: 0.7400\n",
      "Epoch 11/50\n",
      "11/11 [==============================] - 42s 4s/step - loss: 0.9665 - categorical_accuracy: 0.5807 - val_loss: 0.8599 - val_categorical_accuracy: 0.7100\n",
      "Epoch 12/50\n",
      "11/11 [==============================] - 40s 4s/step - loss: 0.9181 - categorical_accuracy: 0.6139 - val_loss: 0.8731 - val_categorical_accuracy: 0.7400\n",
      "Epoch 13/50\n",
      "11/11 [==============================] - 41s 4s/step - loss: 0.8949 - categorical_accuracy: 0.5928 - val_loss: 0.8157 - val_categorical_accuracy: 0.7000\n",
      "Epoch 14/50\n",
      "11/11 [==============================] - 40s 4s/step - loss: 0.8230 - categorical_accuracy: 0.6501 - val_loss: 0.7490 - val_categorical_accuracy: 0.7300\n",
      "Epoch 15/50\n",
      "11/11 [==============================] - 42s 4s/step - loss: 0.7730 - categorical_accuracy: 0.6456 - val_loss: 0.6828 - val_categorical_accuracy: 0.7700\n",
      "Epoch 16/50\n",
      "11/11 [==============================] - 40s 4s/step - loss: 0.7325 - categorical_accuracy: 0.6848 - val_loss: 0.6532 - val_categorical_accuracy: 0.8000\n",
      "Epoch 17/50\n",
      "11/11 [==============================] - 43s 4s/step - loss: 0.6948 - categorical_accuracy: 0.6802 - val_loss: 0.6130 - val_categorical_accuracy: 0.7700\n",
      "Epoch 18/50\n",
      "11/11 [==============================] - 39s 4s/step - loss: 0.6097 - categorical_accuracy: 0.7481 - val_loss: 0.5977 - val_categorical_accuracy: 0.8000\n",
      "Epoch 19/50\n",
      "11/11 [==============================] - 42s 4s/step - loss: 0.6197 - categorical_accuracy: 0.7210 - val_loss: 0.5926 - val_categorical_accuracy: 0.7900\n",
      "Epoch 20/50\n",
      "11/11 [==============================] - 40s 4s/step - loss: 0.5567 - categorical_accuracy: 0.7557 - val_loss: 0.4896 - val_categorical_accuracy: 0.8500\n",
      "Epoch 21/50\n",
      "11/11 [==============================] - 41s 4s/step - loss: 0.5099 - categorical_accuracy: 0.7843 - val_loss: 0.6901 - val_categorical_accuracy: 0.7900\n",
      "Epoch 22/50\n",
      "11/11 [==============================] - 40s 4s/step - loss: 0.4747 - categorical_accuracy: 0.8100 - val_loss: 0.5871 - val_categorical_accuracy: 0.8100\n",
      "Epoch 23/50\n",
      "11/11 [==============================] - 42s 4s/step - loss: 0.4737 - categorical_accuracy: 0.7949 - val_loss: 0.6959 - val_categorical_accuracy: 0.8000\n",
      "Epoch 24/50\n",
      "11/11 [==============================] - 40s 4s/step - loss: 0.4433 - categorical_accuracy: 0.8265 - val_loss: 0.8316 - val_categorical_accuracy: 0.7800\n",
      "Epoch 25/50\n",
      "11/11 [==============================] - 41s 4s/step - loss: 0.4318 - categorical_accuracy: 0.8250 - val_loss: 0.7321 - val_categorical_accuracy: 0.7900\n",
      "Epoch 26/50\n",
      "11/11 [==============================] - 40s 4s/step - loss: 0.4301 - categorical_accuracy: 0.8175 - val_loss: 0.5502 - val_categorical_accuracy: 0.8200\n",
      "Epoch 27/50\n",
      "11/11 [==============================] - 41s 4s/step - loss: 0.3530 - categorical_accuracy: 0.8733 - val_loss: 0.7668 - val_categorical_accuracy: 0.8100\n",
      "Epoch 28/50\n",
      "11/11 [==============================] - 40s 4s/step - loss: 0.3511 - categorical_accuracy: 0.8673 - val_loss: 1.0289 - val_categorical_accuracy: 0.7200\n",
      "Epoch 29/50\n",
      "11/11 [==============================] - 41s 4s/step - loss: 0.3365 - categorical_accuracy: 0.8733 - val_loss: 0.6849 - val_categorical_accuracy: 0.8500\n",
      "Epoch 30/50\n",
      "11/11 [==============================] - 41s 4s/step - loss: 0.3104 - categorical_accuracy: 0.8733 - val_loss: 0.6999 - val_categorical_accuracy: 0.8100\n",
      "Epoch 31/50\n",
      "11/11 [==============================] - 41s 4s/step - loss: 0.2884 - categorical_accuracy: 0.8869 - val_loss: 0.7440 - val_categorical_accuracy: 0.8000\n",
      "Epoch 32/50\n",
      "11/11 [==============================] - 40s 4s/step - loss: 0.3053 - categorical_accuracy: 0.8854 - val_loss: 0.8742 - val_categorical_accuracy: 0.7600\n",
      "Epoch 33/50\n",
      "11/11 [==============================] - 42s 4s/step - loss: 0.2500 - categorical_accuracy: 0.9080 - val_loss: 0.8483 - val_categorical_accuracy: 0.7600\n",
      "Epoch 34/50\n",
      "11/11 [==============================] - 40s 4s/step - loss: 0.2999 - categorical_accuracy: 0.8793 - val_loss: 0.6243 - val_categorical_accuracy: 0.8400\n",
      "Epoch 35/50\n",
      "11/11 [==============================] - 41s 4s/step - loss: 0.2535 - categorical_accuracy: 0.9035 - val_loss: 0.7253 - val_categorical_accuracy: 0.7900\n",
      "Epoch 36/50\n",
      "11/11 [==============================] - 40s 4s/step - loss: 0.2329 - categorical_accuracy: 0.9246 - val_loss: 1.0117 - val_categorical_accuracy: 0.7900\n",
      "Epoch 37/50\n",
      "11/11 [==============================] - 42s 4s/step - loss: 0.2443 - categorical_accuracy: 0.9035 - val_loss: 1.0886 - val_categorical_accuracy: 0.7800\n",
      "Epoch 38/50\n",
      "11/11 [==============================] - 40s 4s/step - loss: 0.2458 - categorical_accuracy: 0.8944 - val_loss: 0.6911 - val_categorical_accuracy: 0.7900\n",
      "Epoch 39/50\n",
      "11/11 [==============================] - 41s 4s/step - loss: 0.2451 - categorical_accuracy: 0.9065 - val_loss: 1.0039 - val_categorical_accuracy: 0.8100\n",
      "Epoch 40/50\n",
      "11/11 [==============================] - 39s 4s/step - loss: 0.2425 - categorical_accuracy: 0.9050 - val_loss: 1.1525 - val_categorical_accuracy: 0.7700\n",
      "Epoch 41/50\n",
      "11/11 [==============================] - 42s 4s/step - loss: 0.2185 - categorical_accuracy: 0.9201 - val_loss: 0.8818 - val_categorical_accuracy: 0.8000\n",
      "Epoch 42/50\n",
      "11/11 [==============================] - 40s 4s/step - loss: 0.2237 - categorical_accuracy: 0.9155 - val_loss: 0.9587 - val_categorical_accuracy: 0.7900\n",
      "Epoch 43/50\n",
      "11/11 [==============================] - 40s 4s/step - loss: 0.1864 - categorical_accuracy: 0.9306 - val_loss: 0.7095 - val_categorical_accuracy: 0.8600\n",
      "Epoch 44/50\n",
      "11/11 [==============================] - 40s 4s/step - loss: 0.1896 - categorical_accuracy: 0.9125 - val_loss: 0.8310 - val_categorical_accuracy: 0.8300\n",
      "Epoch 45/50\n",
      "11/11 [==============================] - 41s 4s/step - loss: 0.1842 - categorical_accuracy: 0.9246 - val_loss: 0.9969 - val_categorical_accuracy: 0.7900\n",
      "Epoch 46/50\n",
      "11/11 [==============================] - 41s 4s/step - loss: 0.1980 - categorical_accuracy: 0.9140 - val_loss: 0.8135 - val_categorical_accuracy: 0.8100\n",
      "Epoch 47/50\n",
      "11/11 [==============================] - 41s 4s/step - loss: 0.2076 - categorical_accuracy: 0.9186 - val_loss: 0.8937 - val_categorical_accuracy: 0.8100\n",
      "Epoch 48/50\n",
      "11/11 [==============================] - 40s 4s/step - loss: 0.2002 - categorical_accuracy: 0.9095 - val_loss: 1.3633 - val_categorical_accuracy: 0.7600\n",
      "Epoch 49/50\n",
      "11/11 [==============================] - 42s 4s/step - loss: 0.2265 - categorical_accuracy: 0.9035 - val_loss: 0.9472 - val_categorical_accuracy: 0.8000\n",
      "Epoch 50/50\n",
      "11/11 [==============================] - 40s 4s/step - loss: 0.2513 - categorical_accuracy: 0.8974 - val_loss: 0.7605 - val_categorical_accuracy: 0.8400\n"
     ]
    },
    {
     "data": {
      "text/plain": [
       "<tensorflow.python.keras.callbacks.History at 0x7f81841a2dc0>"
      ]
     },
     "execution_count": 27,
     "metadata": {},
     "output_type": "execute_result"
    }
   ],
   "source": [
    "model.fit(train_generator, steps_per_epoch=steps_per_epoch, epochs=num_epochs, verbose=1, validation_data=val_generator, \n",
    "                     validation_steps=validation_steps, class_weight=None, workers=1, initial_epoch=0)"
   ]
  },
  {
   "cell_type": "markdown",
   "metadata": {},
   "source": [
    "### Model - 4 : Summary\n",
    "No such overfitting and accuracy is also about ~90%."
   ]
  },
  {
   "cell_type": "code",
   "execution_count": 28,
   "metadata": {},
   "outputs": [],
   "source": [
    "model.save(\"models/gesture_recognition_vgg19.h5\")"
   ]
  },
  {
   "cell_type": "code",
   "execution_count": 29,
   "metadata": {},
   "outputs": [],
   "source": [
    "#model = keras.models.load_model(\"models/gesture_recognition_vgg19.h5\")"
   ]
  },
  {
   "cell_type": "code",
   "execution_count": 31,
   "metadata": {},
   "outputs": [],
   "source": [
    "train_path = '/home/dataset/Project_data/train_loc'\n",
    "val_path = '/home/dataset/Project_data/val_loc'"
   ]
  },
  {
   "cell_type": "markdown",
   "metadata": {},
   "source": [
    "# Model - 5\n",
    "batch=64\n",
    "epochs=50\n",
    "image_size=120*120\n",
    "optimizer=ADAM(lr= 0.001)\n",
    "\n",
    "### Image Localization + Transfer learning + CNN + RNN:\n",
    "[VGG19 (imagenet) --> FLatten -->  Dense(128) ---> Dropout(0.5) --> Dense(64)] --> [TimeDistributed --> GRU(32) --> GRU(16) --> Dropout(0.5) -->  Dense(16) --> Dense(8)] --> softmax(5) "
   ]
  },
  {
   "cell_type": "code",
   "execution_count": 10,
   "metadata": {},
   "outputs": [],
   "source": [
    "batch_size = 64\n",
    "num_epochs = 50\n",
    "steps_per_epoch = int(num_train_sequences/batch_size)\n",
    "validation_steps = int(num_val_sequences/batch_size)\n",
    "if (num_train_sequences%batch_size) != 0:\n",
    "    steps_per_epoch += 1\n",
    "if (num_val_sequences%batch_size) != 0:\n",
    "    validation_steps += 1\n",
    "train_generator = generator(train_path, train_doc, batch_size)\n",
    "val_generator = generator(val_path, val_doc, batch_size)"
   ]
  },
  {
   "cell_type": "code",
   "execution_count": 11,
   "metadata": {},
   "outputs": [
    {
     "name": "stdout",
     "output_type": "stream",
     "text": [
      "Model: \"sequential_1\"\n",
      "_________________________________________________________________\n",
      "Layer (type)                 Output Shape              Param #   \n",
      "=================================================================\n",
      "time_distributed_1 (TimeDist (None, 15, 64)            20622592  \n",
      "_________________________________________________________________\n",
      "gru_2 (GRU)                  (None, 15, 64)            24960     \n",
      "_________________________________________________________________\n",
      "gru_3 (GRU)                  (None, 32)                9408      \n",
      "_________________________________________________________________\n",
      "dropout_3 (Dropout)          (None, 32)                0         \n",
      "_________________________________________________________________\n",
      "dense_5 (Dense)              (None, 16)                528       \n",
      "_________________________________________________________________\n",
      "dropout_4 (Dropout)          (None, 16)                0         \n",
      "_________________________________________________________________\n",
      "dense_6 (Dense)              (None, 5)                 85        \n",
      "=================================================================\n",
      "Total params: 20,657,573\n",
      "Trainable params: 633,189\n",
      "Non-trainable params: 20,024,384\n",
      "_________________________________________________________________\n",
      "None\n"
     ]
    }
   ],
   "source": [
    "base_model = VGG19(include_top=False, weights='imagenet', input_shape=(120,120,3))\n",
    "x = base_model.output\n",
    "x = Flatten()(x)\n",
    "x = Dense(128, activation='relu')(x)\n",
    "x = Dropout(0.4)(x)\n",
    "features = Dense(64, activation='relu')(x)\n",
    "conv_model = Model(inputs=base_model.input, outputs=features)\n",
    "\n",
    "for layer in base_model.layers:\n",
    "    layer.trainable = False\n",
    "\n",
    "model = Sequential()\n",
    "model.add(TimeDistributed(conv_model, input_shape=(15,120,120,3)))\n",
    "model.add(GRU(64, return_sequences=True))\n",
    "model.add(GRU(32))\n",
    "model.add(Dropout(0.5))\n",
    "model.add(Dense(16, activation='relu'))\n",
    "model.add(Dropout(0.5))\n",
    "model.add(Dense(5, activation='softmax'))\n",
    "\n",
    "adam = optimizers.Adam(learning_rate=0.001, decay=1e-6)\n",
    "model.compile(optimizer=adam, loss='categorical_crossentropy', metrics=['categorical_accuracy'])\n",
    "print (model.summary())"
   ]
  },
  {
   "cell_type": "code",
   "execution_count": 12,
   "metadata": {},
   "outputs": [
    {
     "name": "stdout",
     "output_type": "stream",
     "text": [
      "Source path =  /home/dataset/Project_data/train ; batch size = 64\n",
      "Epoch 1/50\n",
      "11/11 [==============================] - ETA: 0s - loss: 1.7611 - categorical_accuracy: 0.2232Source path =  /home/dataset/Project_data/val ; batch size = 64\n",
      "11/11 [==============================] - 56s 4s/step - loss: 1.7611 - categorical_accuracy: 0.2232 - val_loss: 1.5972 - val_categorical_accuracy: 0.2100\n",
      "Epoch 2/50\n",
      "11/11 [==============================] - 41s 4s/step - loss: 1.6530 - categorical_accuracy: 0.2278 - val_loss: 1.5578 - val_categorical_accuracy: 0.2800\n",
      "Epoch 3/50\n",
      "11/11 [==============================] - 41s 4s/step - loss: 1.6317 - categorical_accuracy: 0.2338 - val_loss: 1.5556 - val_categorical_accuracy: 0.2600\n",
      "Epoch 4/50\n",
      "11/11 [==============================] - 40s 4s/step - loss: 1.5959 - categorical_accuracy: 0.2443 - val_loss: 1.5052 - val_categorical_accuracy: 0.3400\n",
      "Epoch 5/50\n",
      "11/11 [==============================] - 42s 4s/step - loss: 1.5798 - categorical_accuracy: 0.2459 - val_loss: 1.5160 - val_categorical_accuracy: 0.3700\n",
      "Epoch 6/50\n",
      "11/11 [==============================] - 39s 4s/step - loss: 1.5501 - categorical_accuracy: 0.2790 - val_loss: 1.4654 - val_categorical_accuracy: 0.3700\n",
      "Epoch 7/50\n",
      "11/11 [==============================] - 41s 4s/step - loss: 1.5306 - categorical_accuracy: 0.2805 - val_loss: 1.4043 - val_categorical_accuracy: 0.4300\n",
      "Epoch 8/50\n",
      "11/11 [==============================] - 39s 4s/step - loss: 1.4830 - categorical_accuracy: 0.3424 - val_loss: 1.3834 - val_categorical_accuracy: 0.4400\n",
      "Epoch 9/50\n",
      "11/11 [==============================] - 41s 4s/step - loss: 1.4193 - categorical_accuracy: 0.3786 - val_loss: 1.3175 - val_categorical_accuracy: 0.4600\n",
      "Epoch 10/50\n",
      "11/11 [==============================] - 39s 4s/step - loss: 1.3866 - categorical_accuracy: 0.3846 - val_loss: 1.1797 - val_categorical_accuracy: 0.5400\n",
      "Epoch 11/50\n",
      "11/11 [==============================] - 41s 4s/step - loss: 1.3390 - categorical_accuracy: 0.4253 - val_loss: 1.1746 - val_categorical_accuracy: 0.4600\n",
      "Epoch 12/50\n",
      "11/11 [==============================] - 39s 4s/step - loss: 1.2654 - categorical_accuracy: 0.4615 - val_loss: 1.0967 - val_categorical_accuracy: 0.5200\n",
      "Epoch 13/50\n",
      "11/11 [==============================] - 41s 4s/step - loss: 1.1977 - categorical_accuracy: 0.4872 - val_loss: 1.0726 - val_categorical_accuracy: 0.5400\n",
      "Epoch 14/50\n",
      "11/11 [==============================] - 40s 4s/step - loss: 1.1542 - categorical_accuracy: 0.5294 - val_loss: 0.9873 - val_categorical_accuracy: 0.6700\n",
      "Epoch 15/50\n",
      "11/11 [==============================] - 41s 4s/step - loss: 1.0883 - categorical_accuracy: 0.5294 - val_loss: 0.9721 - val_categorical_accuracy: 0.6300\n",
      "Epoch 16/50\n",
      "11/11 [==============================] - 39s 4s/step - loss: 1.0415 - categorical_accuracy: 0.5445 - val_loss: 0.9097 - val_categorical_accuracy: 0.6800\n",
      "Epoch 17/50\n",
      "11/11 [==============================] - 41s 4s/step - loss: 0.9416 - categorical_accuracy: 0.6063 - val_loss: 0.8972 - val_categorical_accuracy: 0.6900\n",
      "Epoch 18/50\n",
      "11/11 [==============================] - 39s 4s/step - loss: 0.9113 - categorical_accuracy: 0.6078 - val_loss: 0.7903 - val_categorical_accuracy: 0.7300\n",
      "Epoch 19/50\n",
      "11/11 [==============================] - 41s 4s/step - loss: 0.8893 - categorical_accuracy: 0.6229 - val_loss: 0.7824 - val_categorical_accuracy: 0.7300\n",
      "Epoch 20/50\n",
      "11/11 [==============================] - 40s 4s/step - loss: 0.8260 - categorical_accuracy: 0.6456 - val_loss: 0.7054 - val_categorical_accuracy: 0.7500\n",
      "Epoch 21/50\n",
      "11/11 [==============================] - 40s 4s/step - loss: 0.8118 - categorical_accuracy: 0.6531 - val_loss: 0.7205 - val_categorical_accuracy: 0.8100\n",
      "Epoch 22/50\n",
      "11/11 [==============================] - 40s 4s/step - loss: 0.7320 - categorical_accuracy: 0.7014 - val_loss: 0.6867 - val_categorical_accuracy: 0.8100\n",
      "Epoch 23/50\n",
      "11/11 [==============================] - 42s 4s/step - loss: 0.7141 - categorical_accuracy: 0.6863 - val_loss: 0.7841 - val_categorical_accuracy: 0.7900\n",
      "Epoch 24/50\n",
      "11/11 [==============================] - 39s 4s/step - loss: 0.6558 - categorical_accuracy: 0.7255 - val_loss: 0.6418 - val_categorical_accuracy: 0.8500\n",
      "Epoch 25/50\n",
      "11/11 [==============================] - 41s 4s/step - loss: 0.6142 - categorical_accuracy: 0.7391 - val_loss: 0.5852 - val_categorical_accuracy: 0.8400\n",
      "Epoch 26/50\n",
      "11/11 [==============================] - 41s 4s/step - loss: 0.5768 - categorical_accuracy: 0.7557 - val_loss: 0.6831 - val_categorical_accuracy: 0.7900\n",
      "Epoch 27/50\n",
      "11/11 [==============================] - 41s 4s/step - loss: 0.5522 - categorical_accuracy: 0.7738 - val_loss: 0.6218 - val_categorical_accuracy: 0.8300\n",
      "Epoch 28/50\n",
      "11/11 [==============================] - 40s 4s/step - loss: 0.5134 - categorical_accuracy: 0.7858 - val_loss: 0.7198 - val_categorical_accuracy: 0.8300\n",
      "Epoch 29/50\n",
      "11/11 [==============================] - 41s 4s/step - loss: 0.4879 - categorical_accuracy: 0.7903 - val_loss: 0.6206 - val_categorical_accuracy: 0.8400\n",
      "Epoch 30/50\n",
      "11/11 [==============================] - 40s 4s/step - loss: 0.4609 - categorical_accuracy: 0.8024 - val_loss: 0.6877 - val_categorical_accuracy: 0.8000\n",
      "Epoch 31/50\n",
      "11/11 [==============================] - 41s 4s/step - loss: 0.4355 - categorical_accuracy: 0.8446 - val_loss: 0.6602 - val_categorical_accuracy: 0.8200\n",
      "Epoch 32/50\n",
      "11/11 [==============================] - 40s 4s/step - loss: 0.4110 - categorical_accuracy: 0.8401 - val_loss: 0.9501 - val_categorical_accuracy: 0.7600\n",
      "Epoch 33/50\n",
      "11/11 [==============================] - 41s 4s/step - loss: 0.4190 - categorical_accuracy: 0.8567 - val_loss: 0.9496 - val_categorical_accuracy: 0.7400\n",
      "Epoch 34/50\n",
      "11/11 [==============================] - 40s 4s/step - loss: 0.3725 - categorical_accuracy: 0.8839 - val_loss: 0.7275 - val_categorical_accuracy: 0.8200\n",
      "Epoch 35/50\n",
      "11/11 [==============================] - 42s 4s/step - loss: 0.3515 - categorical_accuracy: 0.8703 - val_loss: 0.6585 - val_categorical_accuracy: 0.8600\n",
      "Epoch 36/50\n",
      "11/11 [==============================] - 41s 4s/step - loss: 0.3131 - categorical_accuracy: 0.8763 - val_loss: 0.6048 - val_categorical_accuracy: 0.8400\n",
      "Epoch 37/50\n",
      "11/11 [==============================] - 42s 4s/step - loss: 0.3679 - categorical_accuracy: 0.8597 - val_loss: 0.7144 - val_categorical_accuracy: 0.8400\n",
      "Epoch 38/50\n",
      "11/11 [==============================] - 40s 4s/step - loss: 0.3245 - categorical_accuracy: 0.8914 - val_loss: 0.6285 - val_categorical_accuracy: 0.8600\n",
      "Epoch 39/50\n",
      "11/11 [==============================] - 42s 4s/step - loss: 0.3018 - categorical_accuracy: 0.8839 - val_loss: 0.8012 - val_categorical_accuracy: 0.8300\n",
      "Epoch 40/50\n",
      "11/11 [==============================] - 39s 4s/step - loss: 0.2783 - categorical_accuracy: 0.9110 - val_loss: 0.7474 - val_categorical_accuracy: 0.8200\n",
      "Epoch 41/50\n",
      "11/11 [==============================] - 42s 4s/step - loss: 0.3221 - categorical_accuracy: 0.8929 - val_loss: 0.6017 - val_categorical_accuracy: 0.8400\n",
      "Epoch 42/50\n",
      "11/11 [==============================] - 40s 4s/step - loss: 0.2608 - categorical_accuracy: 0.8839 - val_loss: 0.4487 - val_categorical_accuracy: 0.8400\n",
      "Epoch 43/50\n",
      "11/11 [==============================] - 41s 4s/step - loss: 0.2707 - categorical_accuracy: 0.8944 - val_loss: 0.6985 - val_categorical_accuracy: 0.8600\n",
      "Epoch 44/50\n",
      "11/11 [==============================] - 39s 4s/step - loss: 0.2476 - categorical_accuracy: 0.9140 - val_loss: 1.1505 - val_categorical_accuracy: 0.8000\n",
      "Epoch 45/50\n",
      "11/11 [==============================] - 41s 4s/step - loss: 0.2440 - categorical_accuracy: 0.9095 - val_loss: 0.7506 - val_categorical_accuracy: 0.8700\n",
      "Epoch 46/50\n",
      "11/11 [==============================] - 40s 4s/step - loss: 0.2299 - categorical_accuracy: 0.9140 - val_loss: 0.9760 - val_categorical_accuracy: 0.8000\n",
      "Epoch 47/50\n",
      "11/11 [==============================] - 41s 4s/step - loss: 0.2657 - categorical_accuracy: 0.8914 - val_loss: 0.8473 - val_categorical_accuracy: 0.8200\n",
      "Epoch 48/50\n",
      "11/11 [==============================] - 40s 4s/step - loss: 0.2724 - categorical_accuracy: 0.9140 - val_loss: 2.4517 - val_categorical_accuracy: 0.5700\n",
      "Epoch 49/50\n",
      "11/11 [==============================] - 41s 4s/step - loss: 0.3695 - categorical_accuracy: 0.8733 - val_loss: 0.7774 - val_categorical_accuracy: 0.8700\n",
      "Epoch 50/50\n",
      "11/11 [==============================] - 41s 4s/step - loss: 0.2732 - categorical_accuracy: 0.8944 - val_loss: 1.1390 - val_categorical_accuracy: 0.8000\n"
     ]
    },
    {
     "data": {
      "text/plain": [
       "<tensorflow.python.keras.callbacks.History at 0x7fde50127fa0>"
      ]
     },
     "execution_count": 12,
     "metadata": {},
     "output_type": "execute_result"
    }
   ],
   "source": [
    "model.fit(train_generator, steps_per_epoch=steps_per_epoch, epochs=num_epochs, verbose=1, validation_data=val_generator, \n",
    "                     validation_steps=validation_steps, class_weight=None, workers=1, initial_epoch=0)"
   ]
  },
  {
   "cell_type": "code",
   "execution_count": 13,
   "metadata": {},
   "outputs": [],
   "source": [
    "model.save(\"models/gesture_recognition_vgg19_localization.h5\")"
   ]
  },
  {
   "cell_type": "markdown",
   "metadata": {},
   "source": [
    "### We are able to get almost ~90% accuracy, to classify the gestures."
   ]
  },
  {
   "cell_type": "markdown",
   "metadata": {},
   "source": [
    "# Thank You !!"
   ]
  },
  {
   "cell_type": "code",
   "execution_count": null,
   "metadata": {},
   "outputs": [],
   "source": []
  }
 ],
 "metadata": {
  "kernelspec": {
   "display_name": "Python 3",
   "language": "python",
   "name": "python3"
  },
  "language_info": {
   "codemirror_mode": {
    "name": "ipython",
    "version": 3
   },
   "file_extension": ".py",
   "mimetype": "text/x-python",
   "name": "python",
   "nbconvert_exporter": "python",
   "pygments_lexer": "ipython3",
   "version": "3.8.5"
  }
 },
 "nbformat": 4,
 "nbformat_minor": 4
}
